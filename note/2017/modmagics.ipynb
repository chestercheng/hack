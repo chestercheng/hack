{
 "cells": [
  {
   "cell_type": "markdown",
   "metadata": {},
   "source": [
    "# Single namespace in notebook?  Not anymore\n",
    "\n",
    "Jupyter notebook is a great tool for prototying and exploring new ideas.  It's all good but falls short of one thing: namespace.  Although [an individual notebook may be imported as a module](http://jupyter-notebook.readthedocs.io/en/latest/examples/Notebook/Importing%20Notebooks.html), within a notebook Jupyter doesn't tell you how to create a namespace.\n",
    "\n",
    "So here is the way around: take advantage of a notebook cell and create modules using [IPython magic](http://ipython.readthedocs.io/en/stable/config/custommagics.html#defining-magics).  IPython magics provides a way to read the cell content.  The source code can be fed it into [exec](https://docs.python.org/3/library/functions.html#exec) and [imp](https://docs.python.org/2.7/library/imp.html#imp.new_module) and then produce a shining module."
   ]
  },
  {
   "cell_type": "code",
   "execution_count": 1,
   "metadata": {
    "collapsed": false,
    "deletable": true,
    "editable": true
   },
   "outputs": [
    {
     "data": {
      "text/html": [
       "\n",
       "<style type='text/css'>\n",
       ".hll { background-color: #ffffcc }\n",
       ".c { color: #408080; font-style: italic } /* Comment */\n",
       ".err { border: 1px solid #FF0000 } /* Error */\n",
       ".k { color: #008000; font-weight: bold } /* Keyword */\n",
       ".o { color: #666666 } /* Operator */\n",
       ".ch { color: #408080; font-style: italic } /* Comment.Hashbang */\n",
       ".cm { color: #408080; font-style: italic } /* Comment.Multiline */\n",
       ".cp { color: #BC7A00 } /* Comment.Preproc */\n",
       ".cpf { color: #408080; font-style: italic } /* Comment.PreprocFile */\n",
       ".c1 { color: #408080; font-style: italic } /* Comment.Single */\n",
       ".cs { color: #408080; font-style: italic } /* Comment.Special */\n",
       ".gd { color: #A00000 } /* Generic.Deleted */\n",
       ".ge { font-style: italic } /* Generic.Emph */\n",
       ".gr { color: #FF0000 } /* Generic.Error */\n",
       ".gh { color: #000080; font-weight: bold } /* Generic.Heading */\n",
       ".gi { color: #00A000 } /* Generic.Inserted */\n",
       ".go { color: #888888 } /* Generic.Output */\n",
       ".gp { color: #000080; font-weight: bold } /* Generic.Prompt */\n",
       ".gs { font-weight: bold } /* Generic.Strong */\n",
       ".gu { color: #800080; font-weight: bold } /* Generic.Subheading */\n",
       ".gt { color: #0044DD } /* Generic.Traceback */\n",
       ".kc { color: #008000; font-weight: bold } /* Keyword.Constant */\n",
       ".kd { color: #008000; font-weight: bold } /* Keyword.Declaration */\n",
       ".kn { color: #008000; font-weight: bold } /* Keyword.Namespace */\n",
       ".kp { color: #008000 } /* Keyword.Pseudo */\n",
       ".kr { color: #008000; font-weight: bold } /* Keyword.Reserved */\n",
       ".kt { color: #B00040 } /* Keyword.Type */\n",
       ".m { color: #666666 } /* Literal.Number */\n",
       ".s { color: #BA2121 } /* Literal.String */\n",
       ".na { color: #7D9029 } /* Name.Attribute */\n",
       ".nb { color: #008000 } /* Name.Builtin */\n",
       ".nc { color: #0000FF; font-weight: bold } /* Name.Class */\n",
       ".no { color: #880000 } /* Name.Constant */\n",
       ".nd { color: #AA22FF } /* Name.Decorator */\n",
       ".ni { color: #999999; font-weight: bold } /* Name.Entity */\n",
       ".ne { color: #D2413A; font-weight: bold } /* Name.Exception */\n",
       ".nf { color: #0000FF } /* Name.Function */\n",
       ".nl { color: #A0A000 } /* Name.Label */\n",
       ".nn { color: #0000FF; font-weight: bold } /* Name.Namespace */\n",
       ".nt { color: #008000; font-weight: bold } /* Name.Tag */\n",
       ".nv { color: #19177C } /* Name.Variable */\n",
       ".ow { color: #AA22FF; font-weight: bold } /* Operator.Word */\n",
       ".w { color: #bbbbbb } /* Text.Whitespace */\n",
       ".mb { color: #666666 } /* Literal.Number.Bin */\n",
       ".mf { color: #666666 } /* Literal.Number.Float */\n",
       ".mh { color: #666666 } /* Literal.Number.Hex */\n",
       ".mi { color: #666666 } /* Literal.Number.Integer */\n",
       ".mo { color: #666666 } /* Literal.Number.Oct */\n",
       ".sa { color: #BA2121 } /* Literal.String.Affix */\n",
       ".sb { color: #BA2121 } /* Literal.String.Backtick */\n",
       ".sc { color: #BA2121 } /* Literal.String.Char */\n",
       ".dl { color: #BA2121 } /* Literal.String.Delimiter */\n",
       ".sd { color: #BA2121; font-style: italic } /* Literal.String.Doc */\n",
       ".s2 { color: #BA2121 } /* Literal.String.Double */\n",
       ".se { color: #BB6622; font-weight: bold } /* Literal.String.Escape */\n",
       ".sh { color: #BA2121 } /* Literal.String.Heredoc */\n",
       ".si { color: #BB6688; font-weight: bold } /* Literal.String.Interpol */\n",
       ".sx { color: #008000 } /* Literal.String.Other */\n",
       ".sr { color: #BB6688 } /* Literal.String.Regex */\n",
       ".s1 { color: #BA2121 } /* Literal.String.Single */\n",
       ".ss { color: #19177C } /* Literal.String.Symbol */\n",
       ".bp { color: #008000 } /* Name.Builtin.Pseudo */\n",
       ".fm { color: #0000FF } /* Name.Function.Magic */\n",
       ".vc { color: #19177C } /* Name.Variable.Class */\n",
       ".vg { color: #19177C } /* Name.Variable.Global */\n",
       ".vi { color: #19177C } /* Name.Variable.Instance */\n",
       ".vm { color: #19177C } /* Name.Variable.Magic */\n",
       ".il { color: #666666 } /* Literal.Number.Integer.Long */\n",
       "</style>\n"
      ],
      "text/plain": [
       "<IPython.core.display.HTML object>"
      ]
     },
     "metadata": {},
     "output_type": "display_data"
    }
   ],
   "source": [
    "# My module magics.\n",
    "\n",
    "from __future__ import print_function\n",
    "\n",
    "\n",
    "import os\n",
    "import sys\n",
    "import imp\n",
    "import collections\n",
    "import argparse\n",
    "\n",
    "from pygments import highlight\n",
    "from pygments.lexers import PythonLexer\n",
    "from pygments.formatters import HtmlFormatter\n",
    "\n",
    "from IPython.core.magic import Magics, magics_class, line_cell_magic\n",
    "from IPython.display import display, HTML\n",
    "\n",
    "\n",
    "# publish the CSS for pygments highlighting\n",
    "display(HTML(\"\"\"\n",
    "<style type='text/css'>\n",
    "%s\n",
    "</style>\n",
    "\"\"\" % HtmlFormatter().get_style_defs()\n",
    "))\n",
    "\n",
    "\n",
    "class ModuleContent(object):\n",
    "    def __init__(self, fullname, mod, source, line=None):\n",
    "        super(ModuleContent, self).__init__()\n",
    "        self.fullname = fullname\n",
    "        self.mod = mod\n",
    "        self.source = source\n",
    "        self.line = line\n",
    "        \n",
    "    @property\n",
    "    def name(self):\n",
    "        return fullname.split('.')[-1]\n",
    "\n",
    "@magics_class\n",
    "class ModuleMagics(Magics):\n",
    "    \"\"\"Turn a cell into a module.\"\"\"\n",
    "    \n",
    "    def __init__(self, shell=None, **kw):\n",
    "        if shell is None:\n",
    "            shell = get_ipython()            \n",
    "        super(ModuleMagics, self).__init__(shell, **kw)\n",
    "        self.contents = collections.OrderedDict()\n",
    "\n",
    "    def _create_parents(self, fullname):\n",
    "        \"\"\"Create parent module objects so that \"from a.b import c\" may be used.\"\"\"\n",
    "        names = fullname.split('.')\n",
    "        for it in range(len(names)):\n",
    "            pname = '.'.join(names[:it+1])\n",
    "            if pname not in sys.modules:\n",
    "                sys.modules[pname] = imp.new_module(pname)\n",
    "        for it in range(len(names)-1, -1, -1):\n",
    "            pname = '.'.join(names[:it])\n",
    "            cname = '.'.join(names[:it+1])\n",
    "            if pname:\n",
    "                pmod = sys.modules[pname]\n",
    "                setattr(pmod, names[it], sys.modules[cname])\n",
    "        \n",
    "    def _build_module(self, tokens, cell):\n",
    "        \"\"\"Build a module from cell.\n",
    "        \n",
    "        If multiple cells have tagged as the same module, those cells are incrementally \n",
    "        built into the module.  The source code is concatenated to the ModuleContent.\n",
    "        \n",
    "        Nested module is OK.\"\"\"\n",
    "        name = tokens[0]\n",
    "        if len(tokens) == 1:\n",
    "            fullname = tokens[0]\n",
    "        elif len(tokens) == 3 and tokens[1] == 'in':\n",
    "            fullname = '.'.join([tokens[2], tokens[0]])\n",
    "        else:\n",
    "            print('usage: %%module build name [in parent_package]')\n",
    "            return\n",
    "\n",
    "        # retrieve content module.\n",
    "        content = self.contents.get(fullname, None)\n",
    "        if not content:\n",
    "            if len(tokens) == 1:\n",
    "                line = '%%module build %s' % fullname\n",
    "            else:\n",
    "                line = '%%module build %s in %s' % (tokens[0], tokens[2])\n",
    "            content = ModuleContent(fullname, imp.new_module(fullname), cell, line=line)\n",
    "        else:\n",
    "            content.source += cell\n",
    "        mod = content.mod\n",
    "\n",
    "        # compile the module.\n",
    "        exec(cell, mod.__dict__)\n",
    "        self.contents[fullname] = content\n",
    "        \n",
    "        # module namespace.\n",
    "        sys.modules[fullname] = mod\n",
    "        self._create_parents(fullname)\n",
    "\n",
    "        # notebook shell namespace.\n",
    "        shell_names = {name: mod}\n",
    "        top_name = fullname.split('.')[0]\n",
    "        if top_name != name:\n",
    "            shell_names[top_name] = sys.modules[top_name]\n",
    "        self.shell.push(shell_names)\n",
    "\n",
    "    def _list_modules(self):\n",
    "        \"\"\"List all modules managed by this magic.\"\"\"\n",
    "        print(list(self.contents.keys()))\n",
    "\n",
    "    def _show_module(self, name):\n",
    "        \"\"\"Show the module content.\"\"\"\n",
    "        ent = self.contents.get(name, None)\n",
    "        if not ent:\n",
    "            ent = dict((ent.name, ent.mod) for ent in self.contents).get(name, None)\n",
    "        if ent:\n",
    "            formatter = HtmlFormatter()\n",
    "            lexer = PythonLexer()\n",
    "            source = '# %s\\n%s' % (ent.line, ent.source)\n",
    "            html = highlight(source, lexer, formatter)\n",
    "            display(HTML(html))\n",
    "        else:\n",
    "            print('no module named %s' % name)\n",
    "\n",
    "    @line_cell_magic\n",
    "    def module(self, line, cell=None):\n",
    "        tokens = line.split()\n",
    "        if cell is None:\n",
    "            # %module list\n",
    "            if tokens[0] == 'list':\n",
    "                self._list_modules()\n",
    "            # %module show mod_name\n",
    "            elif len(tokens) == 2 and tokens[0] == 'show':\n",
    "                self._show_module(tokens[1])\n",
    "            else:\n",
    "                print('usage: %module list')\n",
    "                print('               show mod_name')\n",
    "                return\n",
    "        else:\n",
    "            # %%module build ...\n",
    "            if tokens[0] == 'build':\n",
    "                self._build_module(tokens[1:], cell)\n",
    "            else:\n",
    "                print('usage: %%module build name [in parent_package]')\n",
    "                return\n",
    "            \n",
    "get_ipython().register_magics(ModuleMagics)"
   ]
  },
  {
   "cell_type": "markdown",
   "metadata": {},
   "source": [
    "# Build a module\n",
    "\n",
    "Show-case building a simple module."
   ]
  },
  {
   "cell_type": "code",
   "execution_count": 2,
   "metadata": {
    "collapsed": false,
    "deletable": true,
    "editable": true
   },
   "outputs": [],
   "source": [
    "%%module build mod_a\n",
    "\n",
    "top_attr = 'I am in mod_a'\n",
    "\n",
    "def func():\n",
    "    print(\"I am a function in %s\" % __name__)"
   ]
  },
  {
   "cell_type": "code",
   "execution_count": 3,
   "metadata": {
    "collapsed": false,
    "deletable": true,
    "editable": true
   },
   "outputs": [
    {
     "name": "stdout",
     "output_type": "stream",
     "text": [
      "I am in mod_a\n",
      "I am a function in mod_a\n",
      "mod_a source:\n"
     ]
    },
    {
     "data": {
      "text/html": [
       "<div class=\"highlight\"><pre><span></span><span class=\"c1\"># %module build mod_a</span>\n",
       "\n",
       "<span class=\"n\">top_attr</span> <span class=\"o\">=</span> <span class=\"s1\">&#39;I am in mod_a&#39;</span>\n",
       "\n",
       "<span class=\"k\">def</span> <span class=\"nf\">func</span><span class=\"p\">():</span>\n",
       "    <span class=\"k\">print</span><span class=\"p\">(</span><span class=\"s2\">&quot;I am a function in </span><span class=\"si\">%s</span><span class=\"s2\">&quot;</span> <span class=\"o\">%</span> <span class=\"vm\">__name__</span><span class=\"p\">)</span>\n",
       "</pre></div>\n"
      ],
      "text/plain": [
       "<IPython.core.display.HTML object>"
      ]
     },
     "metadata": {},
     "output_type": "display_data"
    }
   ],
   "source": [
    "print(mod_a.top_attr)\n",
    "mod_a.func()\n",
    "print('mod_a source:')\n",
    "%module show mod_a"
   ]
  },
  {
   "cell_type": "markdown",
   "metadata": {},
   "source": [
    "Contents in another cell can be added to an existing module."
   ]
  },
  {
   "cell_type": "code",
   "execution_count": 4,
   "metadata": {
    "collapsed": false,
    "deletable": true,
    "editable": true
   },
   "outputs": [],
   "source": [
    "%%module build mod_a\n",
    "\n",
    "def second_function():\n",
    "    print(\"I am the second function in %s\" % __name__)\n",
    "    \n",
    "top_attr = 'module attribute is overridden'"
   ]
  },
  {
   "cell_type": "code",
   "execution_count": 5,
   "metadata": {
    "collapsed": false,
    "deletable": true,
    "editable": true
   },
   "outputs": [
    {
     "name": "stdout",
     "output_type": "stream",
     "text": [
      "I am the second function in mod_a\n",
      "module attribute is overridden\n",
      "mod_a source, modified:\n"
     ]
    },
    {
     "data": {
      "text/html": [
       "<div class=\"highlight\"><pre><span></span><span class=\"c1\"># %module build mod_a</span>\n",
       "\n",
       "<span class=\"n\">top_attr</span> <span class=\"o\">=</span> <span class=\"s1\">&#39;I am in mod_a&#39;</span>\n",
       "\n",
       "<span class=\"k\">def</span> <span class=\"nf\">func</span><span class=\"p\">():</span>\n",
       "    <span class=\"k\">print</span><span class=\"p\">(</span><span class=\"s2\">&quot;I am a function in </span><span class=\"si\">%s</span><span class=\"s2\">&quot;</span> <span class=\"o\">%</span> <span class=\"vm\">__name__</span><span class=\"p\">)</span>\n",
       "<span class=\"k\">def</span> <span class=\"nf\">second_function</span><span class=\"p\">():</span>\n",
       "    <span class=\"k\">print</span><span class=\"p\">(</span><span class=\"s2\">&quot;I am the second function in </span><span class=\"si\">%s</span><span class=\"s2\">&quot;</span> <span class=\"o\">%</span> <span class=\"vm\">__name__</span><span class=\"p\">)</span>\n",
       "    \n",
       "<span class=\"n\">top_attr</span> <span class=\"o\">=</span> <span class=\"s1\">&#39;module attribute is overridden&#39;</span>\n",
       "</pre></div>\n"
      ],
      "text/plain": [
       "<IPython.core.display.HTML object>"
      ]
     },
     "metadata": {},
     "output_type": "display_data"
    }
   ],
   "source": [
    "mod_a.second_function()\n",
    "print(mod_a.top_attr)\n",
    "print('mod_a source, modified:')\n",
    "%module show mod_a"
   ]
  },
  {
   "cell_type": "markdown",
   "metadata": {},
   "source": [
    "# Nested module"
   ]
  },
  {
   "cell_type": "code",
   "execution_count": 6,
   "metadata": {
    "collapsed": false
   },
   "outputs": [],
   "source": [
    "%%module build submod in parent.supermod\n",
    "\n",
    "def func_in_submod():\n",
    "    print('I am func_in_submod in %s' % __name__)"
   ]
  },
  {
   "cell_type": "code",
   "execution_count": 7,
   "metadata": {
    "collapsed": false,
    "deletable": true,
    "editable": true
   },
   "outputs": [
    {
     "name": "stdout",
     "output_type": "stream",
     "text": [
      "I am func_in_submod in parent.supermod.submod\n",
      "<module 'parent.supermod.submod'>\n"
     ]
    },
    {
     "data": {
      "text/html": [
       "<div class=\"highlight\"><pre><span></span><span class=\"c1\"># %module build submod in parent.supermod</span>\n",
       "\n",
       "<span class=\"k\">def</span> <span class=\"nf\">func_in_submod</span><span class=\"p\">():</span>\n",
       "    <span class=\"k\">print</span><span class=\"p\">(</span><span class=\"s1\">&#39;I am func_in_submod in </span><span class=\"si\">%s</span><span class=\"s1\">&#39;</span> <span class=\"o\">%</span> <span class=\"vm\">__name__</span><span class=\"p\">)</span>\n",
       "</pre></div>\n"
      ],
      "text/plain": [
       "<IPython.core.display.HTML object>"
      ]
     },
     "metadata": {},
     "output_type": "display_data"
    }
   ],
   "source": [
    "assert 'submod' in globals()\n",
    "submod.func_in_submod()\n",
    "print(submod)\n",
    "%module show parent.supermod.submod"
   ]
  },
  {
   "cell_type": "markdown",
   "metadata": {},
   "source": [
    "The top-level module is automatically brought into the notebook namespace."
   ]
  },
  {
   "cell_type": "code",
   "execution_count": 8,
   "metadata": {
    "collapsed": false
   },
   "outputs": [
    {
     "name": "stdout",
     "output_type": "stream",
     "text": [
      "I am func_in_submod in parent.supermod.submod\n"
     ]
    }
   ],
   "source": [
    "assert 'parent' in globals()\n",
    "parent.supermod.submod.func_in_submod()"
   ]
  },
  {
   "cell_type": "markdown",
   "metadata": {
    "deletable": true,
    "editable": true
   },
   "source": [
    "When using the dot-separated absolute module name, the module isn't automatically added to the notebook namespace."
   ]
  },
  {
   "cell_type": "code",
   "execution_count": 9,
   "metadata": {
    "collapsed": true
   },
   "outputs": [],
   "source": [
    "%%module build parent.supermod.second_mod\n",
    "\n",
    "def func_in_secondmod():\n",
    "    print('I am the second_mod in %s' % __name__)"
   ]
  },
  {
   "cell_type": "code",
   "execution_count": 10,
   "metadata": {
    "collapsed": false
   },
   "outputs": [
    {
     "name": "stdout",
     "output_type": "stream",
     "text": [
      "I am the second_mod in parent.supermod.second_mod\n"
     ]
    },
    {
     "data": {
      "text/html": [
       "<div class=\"highlight\"><pre><span></span><span class=\"c1\"># %module build parent.supermod.second_mod</span>\n",
       "\n",
       "<span class=\"k\">def</span> <span class=\"nf\">func_in_secondmod</span><span class=\"p\">():</span>\n",
       "    <span class=\"k\">print</span><span class=\"p\">(</span><span class=\"s1\">&#39;I am the second_mod in </span><span class=\"si\">%s</span><span class=\"s1\">&#39;</span> <span class=\"o\">%</span> <span class=\"vm\">__name__</span><span class=\"p\">)</span>\n",
       "</pre></div>\n"
      ],
      "text/plain": [
       "<IPython.core.display.HTML object>"
      ]
     },
     "metadata": {},
     "output_type": "display_data"
    }
   ],
   "source": [
    "assert 'second_mod' not in globals()\n",
    "parent.supermod.second_mod.func_in_secondmod()\n",
    "%module show parent.supermod.second_mod"
   ]
  },
  {
   "cell_type": "markdown",
   "metadata": {
    "deletable": true,
    "editable": true
   },
   "source": [
    "# References\n",
    "\n",
    "## IPython magics\n",
    "\n",
    "- Someone else's module magic.  I don't want to save a cell to a file and import again.\n",
    "  https://github.com/brazilbean/modulemagic/blob/master/modulemagic/modulemagic.py\n",
    "- An example of using magic to treat cell contents:\n",
    "  https://stackoverflow.com/questions/33508377/read-cell-content-in-an-ipython-notebook\n",
    "\n",
    "## Dynamic import\n",
    "\n",
    "- http://www.pythondoeswhat.com/2011/12/easily-import-dynamically-created.html\n",
    "- https://stackoverflow.com/questions/2931950/dynamic-module-creation"
   ]
  }
 ],
 "metadata": {
  "kernelspec": {
   "display_name": "Python 3",
   "language": "python",
   "name": "python3"
  },
  "language_info": {
   "codemirror_mode": {
    "name": "ipython",
    "version": 3
   },
   "file_extension": ".py",
   "mimetype": "text/x-python",
   "name": "python",
   "nbconvert_exporter": "python",
   "pygments_lexer": "ipython3",
   "version": "3.7.0a0"
  }
 },
 "nbformat": 4,
 "nbformat_minor": 2
}
