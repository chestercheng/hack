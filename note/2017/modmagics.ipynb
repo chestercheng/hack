{
 "cells": [
  {
   "cell_type": "code",
   "execution_count": 1,
   "metadata": {
    "collapsed": true
   },
   "outputs": [],
   "source": [
    "# https://stackoverflow.com/questions/33508377/read-cell-content-in-an-ipython-notebook\n",
    "\n",
    "'''\n",
    "from IPython.core.magic import  (\n",
    "    Magics, magics_class, cell_magic, line_magic\n",
    ")\n",
    "'''"
   ]
  },
  {
   "cell_type": "code",
   "execution_count": 2,
   "metadata": {
    "collapsed": false
   },
   "outputs": [],
   "source": [
    "from IPython.core.magic import Magics, magics_class, cell_magic, line_magic\n",
    "\n",
    "@magics_class\n",
    "class StoreSQL(Magics):\n",
    "\n",
    "    def __init__(self, shell=None,  **kwargs):\n",
    "        super().__init__(shell=shell, **kwargs)\n",
    "        self._store = []\n",
    "        # inject our store in user availlable namespace under __mystore\n",
    "        # name\n",
    "        shell.user_ns['__mystore'] = self._store\n",
    "\n",
    "    @cell_magic\n",
    "    def sql(self, line, cell):\n",
    "        \"\"\"store the cell in the store\"\"\"\n",
    "        print(type(cell))\n",
    "        self._store.append(cell)\n",
    "\n",
    "    @line_magic\n",
    "    def showsql(self, line):\n",
    "        \"\"\"show all recorded statements\"\"\"\n",
    "        print(self._store)\n",
    "        \n",
    "## use ipython load_ext mechanisme here if distributed\n",
    "get_ipython().register_magics(StoreSQL)"
   ]
  },
  {
   "cell_type": "code",
   "execution_count": 3,
   "metadata": {
    "collapsed": false
   },
   "outputs": [
    {
     "name": "stdout",
     "output_type": "stream",
     "text": [
      "<class 'str'>\n"
     ]
    }
   ],
   "source": [
    "%%sql\n",
    "select * from foo Where QUX Bar"
   ]
  },
  {
   "cell_type": "code",
   "execution_count": 4,
   "metadata": {
    "collapsed": false
   },
   "outputs": [
    {
     "name": "stdout",
     "output_type": "stream",
     "text": [
      "['select * from foo Where QUX Bar']\n"
     ]
    }
   ],
   "source": [
    "%showsql"
   ]
  },
  {
   "cell_type": "code",
   "execution_count": 5,
   "metadata": {
    "collapsed": true
   },
   "outputs": [],
   "source": [
    "# http://ipython.readthedocs.io/en/stable/config/custommagics.html#defining-magics\n",
    "\n",
    "from IPython.core.magic import (register_line_magic, register_cell_magic,\n",
    "                                register_line_cell_magic)\n",
    "\n",
    "@register_line_magic\n",
    "def lmagic(line):\n",
    "    \"my line magic\"\n",
    "    return line\n",
    "\n",
    "@register_cell_magic\n",
    "def cmagic(line, cell):\n",
    "    \"my cell magic\"\n",
    "    return line, cell\n",
    "\n",
    "@register_line_cell_magic\n",
    "def lcmagic(line, cell=None):\n",
    "    \"Magic that works both as %lcmagic and as %%lcmagic\"\n",
    "    if cell is None:\n",
    "        print(\"Called as line magic\")\n",
    "        return line\n",
    "    else:\n",
    "        print(\"Called as cell magic\")\n",
    "        return line, cell\n",
    "\n",
    "# In an interactive session, we need to delete these to avoid\n",
    "# name conflicts for automagic to work on line magics.\n",
    "del lmagic, lcmagic"
   ]
  },
  {
   "cell_type": "code",
   "execution_count": 6,
   "metadata": {
    "collapsed": true
   },
   "outputs": [],
   "source": [
    "# https://github.com/brazilbean/modulemagic/blob/master/modulemagic/modulemagic.py\n",
    "# but i don't want to save cell to a file and import again, looks silly."
   ]
  },
  {
   "cell_type": "code",
   "execution_count": 7,
   "metadata": {
    "collapsed": false
   },
   "outputs": [],
   "source": [
    "# https://stackoverflow.com/questions/2931950/dynamic-module-creation\n",
    "# https://docs.python.org/3/library/functions.html#exec\n",
    "# https://docs.python.org/2.7/library/imp.html#imp.new_module\n",
    "\n",
    "import os\n",
    "import sys\n",
    "import imp\n",
    "import argparse\n",
    "\n",
    "from IPython.core.magic import Magics, magics_class, cell_magic\n",
    "\n",
    "@magics_class\n",
    "class ModuleMagics(Magics):\n",
    "    \n",
    "    def __init__(self, shell=None, namespace=None, **kw):\n",
    "        if shell is None:\n",
    "            shell = get_ipython()            \n",
    "        super(ModuleMagics, self).__init__(shell, **kw)\n",
    "        self.namespace = namespace\n",
    "        \n",
    "    @cell_magic\n",
    "    def module(self, line, cell):\n",
    "        parser = argparse.ArgumentParser('%%module cell magic')\n",
    "        parser.add_argument('fullname')\n",
    "        args = parser.parse_args(line.split())\n",
    "\n",
    "        fullname = args.fullname\n",
    "\n",
    "        mod = sys.modules.get(fullname, imp.new_module(fullname))\n",
    "        exec(cell, mod.__dict__)\n",
    "        \n",
    "        sys.modules[fullname] = mod\n",
    "        if self.namespace:\n",
    "            self.namespace[fullname] = mod\n",
    "        else:\n",
    "            self.shell.push({fullname: mod})\n",
    "\n",
    "get_ipython().register_magics(ModuleMagics)"
   ]
  },
  {
   "cell_type": "code",
   "execution_count": 8,
   "metadata": {
    "collapsed": false
   },
   "outputs": [],
   "source": [
    "%%module mymod\n",
    "\n",
    "def func():\n",
    "    print(\"I am a function\")"
   ]
  },
  {
   "cell_type": "code",
   "execution_count": 9,
   "metadata": {
    "collapsed": false
   },
   "outputs": [
    {
     "name": "stdout",
     "output_type": "stream",
     "text": [
      "True\n"
     ]
    },
    {
     "data": {
      "text/plain": [
       "['__builtins__',\n",
       " '__doc__',\n",
       " '__loader__',\n",
       " '__name__',\n",
       " '__package__',\n",
       " '__spec__',\n",
       " 'func']"
      ]
     },
     "execution_count": 9,
     "metadata": {},
     "output_type": "execute_result"
    }
   ],
   "source": [
    "print('mymod' in sys.modules.keys())\n",
    "dir(mymod)"
   ]
  },
  {
   "cell_type": "code",
   "execution_count": 10,
   "metadata": {
    "collapsed": false
   },
   "outputs": [],
   "source": [
    "%%module mymod\n",
    "\n",
    "def func2():\n",
    "    print(\"I am the second function\")"
   ]
  },
  {
   "cell_type": "code",
   "execution_count": 11,
   "metadata": {
    "collapsed": false
   },
   "outputs": [
    {
     "name": "stdout",
     "output_type": "stream",
     "text": [
      "I am the second function\n"
     ]
    }
   ],
   "source": [
    "dir(mymod)\n",
    "mymod.func2()"
   ]
  }
 ],
 "metadata": {
  "kernelspec": {
   "display_name": "Python 3",
   "language": "python",
   "name": "python3"
  },
  "language_info": {
   "codemirror_mode": {
    "name": "ipython",
    "version": 3
   },
   "file_extension": ".py",
   "mimetype": "text/x-python",
   "name": "python",
   "nbconvert_exporter": "python",
   "pygments_lexer": "ipython3",
   "version": "3.7.0a0"
  }
 },
 "nbformat": 4,
 "nbformat_minor": 2
}
